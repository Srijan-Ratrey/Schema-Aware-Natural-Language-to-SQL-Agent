{
  "nbformat": 4,
  "nbformat_minor": 0,
  "metadata": {
    "colab": {
      "provenance": []
    },
    "kernelspec": {
      "name": "python3",
      "display_name": "Python 3"
    },
    "language_info": {
      "name": "python"
    }
  },
  "cells": [
    {
      "cell_type": "code",
      "source": [
        "# 🟩 STEP 1: Install OpenAI if not already installed\n",
        "!pip install gradio --quiet\n"
      ],
      "metadata": {
        "colab": {
          "base_uri": "https://localhost:8080/"
        },
        "id": "mp-FIn8pJl_t",
        "outputId": "5e888101-7b4e-4da8-f929-1c9282817cfa"
      },
      "execution_count": 5,
      "outputs": [
        {
          "output_type": "stream",
          "name": "stdout",
          "text": [
            "\u001b[2K   \u001b[90m━━━━━━━━━━━━━━━━━━━━━━━━━━━━━━━━━━━━━━━━\u001b[0m \u001b[32m46.9/46.9 MB\u001b[0m \u001b[31m17.3 MB/s\u001b[0m eta \u001b[36m0:00:00\u001b[0m\n",
            "\u001b[2K   \u001b[90m━━━━━━━━━━━━━━━━━━━━━━━━━━━━━━━━━━━━━━━━\u001b[0m \u001b[32m322.2/322.2 kB\u001b[0m \u001b[31m15.5 MB/s\u001b[0m eta \u001b[36m0:00:00\u001b[0m\n",
            "\u001b[2K   \u001b[90m━━━━━━━━━━━━━━━━━━━━━━━━━━━━━━━━━━━━━━━━\u001b[0m \u001b[32m95.2/95.2 kB\u001b[0m \u001b[31m6.4 MB/s\u001b[0m eta \u001b[36m0:00:00\u001b[0m\n",
            "\u001b[2K   \u001b[90m━━━━━━━━━━━━━━━━━━━━━━━━━━━━━━━━━━━━━━━━\u001b[0m \u001b[32m11.4/11.4 MB\u001b[0m \u001b[31m69.3 MB/s\u001b[0m eta \u001b[36m0:00:00\u001b[0m\n",
            "\u001b[2K   \u001b[90m━━━━━━━━━━━━━━━━━━━━━━━━━━━━━━━━━━━━━━━━\u001b[0m \u001b[32m72.0/72.0 kB\u001b[0m \u001b[31m4.9 MB/s\u001b[0m eta \u001b[36m0:00:00\u001b[0m\n",
            "\u001b[2K   \u001b[90m━━━━━━━━━━━━━━━━━━━━━━━━━━━━━━━━━━━━━━━━\u001b[0m \u001b[32m62.4/62.4 kB\u001b[0m \u001b[31m4.6 MB/s\u001b[0m eta \u001b[36m0:00:00\u001b[0m\n",
            "\u001b[?25h"
          ]
        }
      ]
    },
    {
      "cell_type": "code",
      "source": [
        "# 🟩 STEP 2: Import necessary libraries\n",
        "import openai\n",
        "import getpass\n",
        "import gradio as gr"
      ],
      "metadata": {
        "id": "8Y1_j10VKAEV"
      },
      "execution_count": 6,
      "outputs": []
    },
    {
      "cell_type": "code",
      "source": [
        "# 🟩 STEP 3: Enter your OpenAI API key securely\n",
        "openai.api_key = getpass.getpass(\"Enter your OpenAI API Key: \")\n"
      ],
      "metadata": {
        "colab": {
          "base_uri": "https://localhost:8080/"
        },
        "id": "Ypi_iaL8LvvZ",
        "outputId": "fca98662-7bb3-48b1-da10-16e7d4547acd"
      },
      "execution_count": 2,
      "outputs": [
        {
          "name": "stdout",
          "output_type": "stream",
          "text": [
            "Enter your OpenAI API Key: ··········\n"
          ]
        }
      ]
    },
    {
      "cell_type": "code",
      "source": [
        "# 🟩 STEP 4: Define NLP to SQL function\n",
        "def convert_to_sql(natural_language_query, table_schema):\n",
        "    prompt = f\"\"\"\n",
        "You are an expert SQL translator. Given the table schema:\n",
        "{table_schema}\n",
        "\n",
        "Convert the following question into an SQL query:\n",
        "\"{natural_language_query}\"\n",
        "\n",
        "Only return the SQL query without explanation.\n",
        "\"\"\"\n",
        "    try:\n",
        "        response = openai.ChatCompletion.create(\n",
        "            model=\"gpt-4o-mini\",\n",
        "            messages=[{\"role\": \"user\", \"content\": prompt}],\n",
        "            temperature=0.2\n",
        "        )\n",
        "        return response.choices[0].message[\"content\"].strip()\n",
        "    except Exception as e:\n",
        "        return f\"❌ Error: {e}\"\n"
      ],
      "metadata": {
        "id": "LOIDhtbYL4TW"
      },
      "execution_count": 7,
      "outputs": []
    },
    {
      "cell_type": "code",
      "source": [
        "# 🟩 STEP 5: Build Web UI\n",
        "with gr.Blocks(title=\"NLP to SQL (GPT-4o-mini)\") as demo:\n",
        "    gr.Markdown(\"### 🧠 Convert Natural Language to SQL using OpenAI GPT-4o-mini\")\n",
        "\n",
        "    with gr.Row():\n",
        "        nl_query = gr.Textbox(label=\"Natural Language Query\", placeholder=\"e.g. Show all employees in Sales...\")\n",
        "        schema = gr.Textbox(label=\"Table Schema\", placeholder=\"e.g. Table: employees\\nColumns: id, name, department...\")\n",
        "\n",
        "    with gr.Row():\n",
        "        output = gr.Textbox(label=\"Generated SQL\", lines=4)\n",
        "\n",
        "    submit_btn = gr.Button(\"🔍 Convert\")\n",
        "    submit_btn.click(fn=convert_to_sql, inputs=[nl_query, schema], outputs=output)\n",
        "\n",
        "# 🟩 STEP 6: Launch App\n",
        "demo.launch(share=True)\n"
      ],
      "metadata": {
        "colab": {
          "base_uri": "https://localhost:8080/",
          "height": 611
        },
        "id": "sqVM4iv_MGD4",
        "outputId": "8a032d57-8cdf-4d65-cdff-266a6dbc8f35"
      },
      "execution_count": 8,
      "outputs": [
        {
          "output_type": "stream",
          "name": "stdout",
          "text": [
            "Colab notebook detected. To show errors in colab notebook, set debug=True in launch()\n",
            "* Running on public URL: https://415dace1ed45e444ca.gradio.live\n",
            "\n",
            "This share link expires in 1 week. For free permanent hosting and GPU upgrades, run `gradio deploy` from the terminal in the working directory to deploy to Hugging Face Spaces (https://huggingface.co/spaces)\n"
          ]
        },
        {
          "output_type": "display_data",
          "data": {
            "text/plain": [
              "<IPython.core.display.HTML object>"
            ],
            "text/html": [
              "<div><iframe src=\"https://415dace1ed45e444ca.gradio.live\" width=\"100%\" height=\"500\" allow=\"autoplay; camera; microphone; clipboard-read; clipboard-write;\" frameborder=\"0\" allowfullscreen></iframe></div>"
            ]
          },
          "metadata": {}
        },
        {
          "output_type": "execute_result",
          "data": {
            "text/plain": []
          },
          "metadata": {},
          "execution_count": 8
        }
      ]
    }
  ]
}